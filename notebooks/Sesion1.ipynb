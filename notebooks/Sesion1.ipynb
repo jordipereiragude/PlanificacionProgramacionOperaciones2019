{
 "cells": [
  {
   "cell_type": "markdown",
   "metadata": {},
   "source": [
    "# Sesión 1\n",
    "\n",
    "Contenidos:\n",
    "\n",
    "- Modelos matemáticos con Julia/JuMP\n",
    "- Heurísticas constructivas"
   ]
  },
  {
   "cell_type": "markdown",
   "metadata": {},
   "source": [
    "# Julia/JuMP\n",
    "\n",
    "La combinación Julia/JuMP permite combinar un lenguaje de programación con un lenguaje de modelización. Esto permite una mejor integración de programa y solver.\n",
    "\n",
    "Nos limitaremos a usar Julia 0.6 con una versión de JuMP acorde.\n",
    "\n",
    "Primeramente cargamos JuMP y GLPK que será el solver de programación lineal y programación lineal entera que usaremos en el curso."
   ]
  },
  {
   "cell_type": "code",
   "execution_count": null,
   "metadata": {},
   "outputs": [],
   "source": [
    "using JuMP\n",
    "using GLPKMathProgInterface"
   ]
  },
  {
   "cell_type": "markdown",
   "metadata": {},
   "source": [
    "Un modelo muy simple:"
   ]
  },
  {
   "cell_type": "code",
   "execution_count": null,
   "metadata": {},
   "outputs": [],
   "source": [
    "m = Model(solver = GLPKSolverLP())\n",
    "@variable(m, 0 <= x <= 10 )\n",
    "@variable(m, 0 <= y <= 30 )\n",
    "\n",
    "@objective(m, Max, 5x + 3*y )\n",
    "@constraint(m, 2x + 3y <= 35.0 )\n",
    "\n",
    "print(m)\n",
    "\n",
    "status = solve(m)\n",
    "\n",
    "println(\"Status: \",status,\" Objective value: \", getobjectivevalue(m))\n",
    "println(\"x = \", getvalue(x))\n",
    "println(\"y = \", getvalue(y))"
   ]
  },
  {
   "cell_type": "markdown",
   "metadata": {},
   "source": [
    "Un PL en formato estándar se expresa como:\n",
    "\n",
    "\\begin{align}\n",
    "\\text{minimize} \\qquad & c^T x \\\\\n",
    " \\text{subject to} \\quad \\quad & A x = b \\\\\n",
    "  & x \\geq 0 \\\\\n",
    "  & xx \\in \\mathbb{R}^n\n",
    "\\end{align}\n"
   ]
  },
  {
   "cell_type": "code",
   "execution_count": null,
   "metadata": {},
   "outputs": [],
   "source": [
    "# DATOS\n",
    "#-------\n",
    "\n",
    "c=[-2500; -4000; 0; 0; 0] \n",
    "b=[200; 100; 750]\n",
    "A=[1 0 1 0 0; 0 1 0 1 0; 3 5 0 0 1]\n",
    "m, n = size(A) # m = filas n = columnas\n",
    "\n",
    "# DECLARACION DEL MODELO\n",
    "#------------------------\n",
    "\n",
    "modelo = Model(solver = GLPKSolverLP())\n",
    "@variable(modelo, x[1:n] >= 0) # Modela x >=0\n",
    "for i in 1:m # vamos a construir restricciones una a una\n",
    "    @constraint(modelo, sum(A[i, j]*x[j] for j in 1:n) == b[i]) # i-ésima restricción \n",
    "end \n",
    "@objective(modelo,Min,sum(c[i]*x[i] for i in 1:n))\n",
    "status = solve(modelo) # resolvemos el modelo  \n",
    "println(getobjectivevalue(modelo))\n",
    "println(getvalue(x))"
   ]
  },
  {
   "cell_type": "markdown",
   "metadata": {},
   "source": [
    "# Set Covering Problem\n",
    "\n",
    "Veamos un ejemplo un poco más complejo en que es importante trabajar sabiendo que la mayoría de la matriz A está formada por ceros.\n",
    "\n",
    "El modelo es:\n",
    "\n",
    "\\begin{align}\n",
    "\\text{minimize} \\qquad & \\sum_{j=1}^{n} c_j x_j \\\\\n",
    " \\text{subject to} \\quad \\quad & \\sum_{i=1}^{m} a_{ij} x_j \\geq 1 & \\qquad \\forall i\\in 1,\\cdots,m \\\\\n",
    " \\qquad \\qquad & x_j \\in \\{0,1\\} & \\qquad \\forall j\\in 1,\\cdots,n\n",
    "\\end{align}\n",
    "\n",
    "Primero vamos a bajar un archivo con datos del problema "
   ]
  },
  {
   "cell_type": "code",
   "execution_count": null,
   "metadata": {},
   "outputs": [],
   "source": [
    "run(`wget -O scp41.txt http://people.brunel.ac.uk/~mastjjb/jeb/orlib/files/scp41.txt`)"
   ]
  },
  {
   "cell_type": "code",
   "execution_count": null,
   "metadata": {},
   "outputs": [],
   "source": [
    "run(`cat scp41.txt`)"
   ]
  },
  {
   "cell_type": "markdown",
   "metadata": {},
   "source": [
    "La estructura de datos es algo confusa. Primero tenemos una línea con el número de restricciones (200) y en número de variables (1000). Los siguientes 1000 valores corresponden a los costos de las variables en la función objetivo y después hay la descripción de las 200 restricciones con esta forma (copio la primera)\n",
    "\n",
    " 17 \n",
    " 91 214 230 289 351 416 488 491 518 567 720 721 \n",
    " 735 753 768 928 990 \n",
    " \n",
    " Que significa que hay 17 no ceros y que las variables 91, ..., 990 adoptan valor en la restriccion.\n",
    " \n",
    " Como la estructura es un tanto oscura, vamos a tener que crear nuestro propio lector de instancias:"
   ]
  },
  {
   "cell_type": "code",
   "execution_count": null,
   "metadata": {},
   "outputs": [],
   "source": [
    "function readFile(filename)\n",
    "    f=open(filename,\"r\")\n",
    "    s=readstring(f)\n",
    "    close(f)\n",
    "    s=replace(s,\"\\n\",\"\")\n",
    "    s=split(s,\" \")\n",
    "    nC=parse(Int64,s[2]) #numero de restricciones\n",
    "    nV=parse(Int64,s[3]) #numero of variables\n",
    "    numCoefFo=0 #contadores para procesar la información\n",
    "    numCoef=0\n",
    "    numRow=0\n",
    "    c= Float64[] #vector donde guardar los coeficientes de la función objetivo\n",
    "    #método para almacenar una matriz (o un grafo) sparse\n",
    "    I=Int64[] #puntero a fila\n",
    "    J=Int64[] # puntero a columna\n",
    "    V=Float64[] # puntero a valor\n",
    "    for i in 4:length(s)\n",
    "        if s[i]!= \"\"\n",
    "            if numCoefFo < nV\n",
    "                push!(c,parse(Float64,s[i]))\n",
    "                numCoefFo += 1\n",
    "            else\n",
    "                if numCoef == 0\n",
    "                    numRow += 1\n",
    "                    numCoef = parse(Int64,s[i])\n",
    "                else\n",
    "                    numCoef -= 1\n",
    "                    push!(I,numRow)\n",
    "                    push!(J,parse(Int64,s[i]))\n",
    "                    push!(V,1.0)\n",
    "                end\n",
    "            end\n",
    "        end\n",
    "    end\n",
    "    A=sparse(I,J,V) #crea una matriz optimizada para no guardar ceros\n",
    "    return nC,nV,c,A #,c,A\n",
    "end"
   ]
  },
  {
   "cell_type": "code",
   "execution_count": null,
   "metadata": {},
   "outputs": [],
   "source": [
    "constraints,variables,c,A = readFile(\"scp41.txt\")\n",
    "\n",
    "println(\"\\n\\n\",constraints,\" \",variables)\n",
    "println(\"\\n\\n\",c)\n",
    "println(\"\\n\\n\",A)"
   ]
  },
  {
   "cell_type": "code",
   "execution_count": null,
   "metadata": {},
   "outputs": [],
   "source": [
    "scp=Model(solver = GLPKSolverMIP())\n",
    "@variable(scp, x[1:variables],Bin)\n",
    "\n",
    "# si se quiere la versión relajada\n",
    "#scp=Model(solver=GLPKSolverLP())\n",
    "#@variable(scp, x[1:variables] >= 0)\n",
    "\n",
    "#función objetivo a minimizar\n",
    "@objective(scp, Min, sum(c[j]*x[j] for j in 1:variables))\n",
    "\n",
    "for i in 1:constraints\n",
    "    @constraint(scp,sum(A[i,j]*x[j] for j in 1:variables) >=1 )\n",
    "end\n",
    "\n",
    "#escribimos el modelo\n",
    "#print(scp)\n",
    "\n",
    "#resolvemos\n",
    "status = solve(scp)\n",
    "\n",
    "#mostramos resultados\n",
    "println(\"**** Status: \",status,\" Objective value: \", getobjectivevalue(scp))\n",
    "println(\"**** x = \", getvalue(x))"
   ]
  },
  {
   "cell_type": "code",
   "execution_count": null,
   "metadata": {},
   "outputs": [],
   "source": [
    "scpAlt=Model(solver = GLPKSolverMIP())\n",
    "@variable(scpAlt, xAlt[1:variables],Bin)\n",
    "\n",
    "#función objetivo a minimizar\n",
    "Expr = AffExpr()\n",
    "for j in 1:variables\n",
    "    push!(Expr, c[j], xAlt[j])\n",
    "end\n",
    "@objective(scpAlt, Min, Expr)\n",
    "\n",
    "for i in 1:constraints\n",
    "    Expr = AffExpr()\n",
    "    for j in 1:variables\n",
    "        push!(Expr,A[i,j],xAlt[j])\n",
    "    end\n",
    "    @constraint(scpAlt,Expr >= 1)\n",
    "end\n",
    "\n",
    "#escribimos el modelo\n",
    "#print(scpAlt)\n",
    "\n",
    "#resolvemos\n",
    "status = solve(scpAlt)\n",
    "\n",
    "#mostramos resultados\n",
    "println(\"**** Status: \",status,\" Objective value: \", getobjectivevalue(scpAlt))\n",
    "for i in 1:variables\n",
    "    if getvalue(xAlt[i])>0.99\n",
    "        println(i,\"\\t\",xAlt[i])\n",
    "    end\n",
    "end"
   ]
  },
  {
   "cell_type": "markdown",
   "metadata": {},
   "source": [
    "# Heurísticas constructivas\n",
    "\n",
    "Recordemos la idea básica de una heurística constructiva: intentar construir la solución paso por paso hasta que tenemos una solución completa.\n",
    "\n",
    "En este caso necesitamos seleccionar variables hasta cumplir con todas las restricciones. Idealmente queremos \"pagar\" poco para cumplir con todas las restricciones. \n",
    "\n",
    "Empezaremos por definir los datos que vamos a necesitar:"
   ]
  },
  {
   "cell_type": "code",
   "execution_count": null,
   "metadata": {},
   "outputs": [],
   "source": [
    "solucion=zeros(Bool,variables)\n",
    "cubre=zeros(Int64,variables)\n",
    "cubierta=zeros(Bool,constraints)\n",
    "sinCubrir=constraints\n",
    "costeSolucion=0"
   ]
  },
  {
   "cell_type": "code",
   "execution_count": null,
   "metadata": {},
   "outputs": [],
   "source": [
    "#determinamos el número de restricciones que cubre inicialmente cada variable\n",
    "#Nota: Hay maneras más eficientes aprovechando \"sparse\" (https://docs.julialang.org/en/v0.6/manual/arrays/#Sparse-Vectors-and-Matrices-1))\n",
    "\n",
    "for i in 1:variables\n",
    "    for j in 1:constraints\n",
    "        if A[j,i]==1\n",
    "            cubre[i] += 1\n",
    "        end\n",
    "    end\n",
    "end\n",
    "#al final de este bucle, cubre[i] indica el número de restricciones que \"cubre\" la variable i"
   ]
  },
  {
   "cell_type": "code",
   "execution_count": null,
   "metadata": {},
   "outputs": [],
   "source": [
    "while sinCubrir>0\n",
    "    bestI::Int64=0\n",
    "    bestCoste=typemax(Float64) #puede igualarse bestCoste a un valor muy alto\n",
    "    for i in 1:variables\n",
    "        if solucion[i]==false #si no, no vale la pena y evitamos un problema desde un punto computacional\n",
    "            costePorRestriccion=c[i]/cubre[i]\n",
    "            if costePorRestriccion<bestCoste #es el mejor hasta el momento?\n",
    "                bestCoste=costePorRestriccion\n",
    "                bestI=i\n",
    "            end \n",
    "        end\n",
    "    end\n",
    "    #Aqui tenemos al mejor que es bestI\n",
    "    @assert bestI!=0 #si pasa esto ha habido un error\n",
    "    solucion[bestI]=true #actualizamos solución\n",
    "    costeSolucion+=c[bestI] #actualizamos coste acumulado de la solución en construcción\n",
    "    for j in 1:constraints #vamos a ver qué restricciones han pasado a estar cubiertas\n",
    "        if A[j,bestI]==1 && cubierta[j]==false\n",
    "            cubierta[j]=true #si pasan a estar cubiertas\n",
    "            sinCubrir -= 1\n",
    "            for i in 1:variables #vamos a ver qué variables eran las que las cubrian\n",
    "                if A[j,i]==1\n",
    "                    cubre[i] -= 1\n",
    "                end\n",
    "            end\n",
    "        end\n",
    "    end\n",
    "    @assert cubre[bestI]==0\n",
    "    println(\"he escogido \",bestI,\" quedan por cubrir \",sinCubrir,\" coste acumulado: \",costeSolucion)\n",
    "end"
   ]
  },
  {
   "cell_type": "code",
   "execution_count": null,
   "metadata": {},
   "outputs": [],
   "source": []
  }
 ],
 "metadata": {
  "kernelspec": {
   "display_name": "Julia 0.6.4",
   "language": "julia",
   "name": "julia-0.6"
  },
  "language_info": {
   "file_extension": ".jl",
   "mimetype": "application/julia",
   "name": "julia",
   "version": "0.6.4"
  }
 },
 "nbformat": 4,
 "nbformat_minor": 2
}
