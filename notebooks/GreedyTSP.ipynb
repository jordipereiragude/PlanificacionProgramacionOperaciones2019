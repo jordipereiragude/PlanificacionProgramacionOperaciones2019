{
 "cells": [
  {
   "cell_type": "markdown",
   "metadata": {},
   "source": [
    "# Heurística greedy para el viajante de comercio\n",
    "\n",
    "Primeramente, vamos a construir una instancia simétrica con un número de ciudades fijado por el parámetro n"
   ]
  },
  {
   "cell_type": "code",
   "execution_count": 1,
   "metadata": {},
   "outputs": [
    {
     "name": "stdout",
     "output_type": "stream",
     "text": [
      "[0 984 82 842 991; 984 0 89 896 723; 82 89 0 342 773; 842 896 342 0 669; 991 723 773 669 0]\n"
     ]
    }
   ],
   "source": [
    "n=5\n",
    "distancias=Array{Int64}(n,n)\n",
    "for i in 1:n\n",
    "    distancias[i,i]=0\n",
    "    for j in i+1:n\n",
    "        distancias[i,j]=rand(1:1000) #número aleatorio entre 1 y 1000\n",
    "        distancias[j,i]=distancias[i,j]\n",
    "    end\n",
    "end\n",
    "println(distancias)"
   ]
  },
  {
   "cell_type": "markdown",
   "metadata": {},
   "source": [
    "# El algoritmo en sí\n",
    "\n",
    "La idea del algoritmo es empezar en un vértice cualquiera (el actual) buscar su más cercano no visitado y moverse a ese vértice. Finalmente volvemos al origen.\n",
    "\n",
    "Por comodidad, diremos que el vértice inicial es el vértice 1 (no es difícil cambiar el código para hacer"
   ]
  },
  {
   "cell_type": "code",
   "execution_count": null,
   "metadata": {},
   "outputs": [],
   "source": [
    "yavisitados=zeros(Bool,n)\n",
    "distanciaAcumulada=0\n",
    "println(yavisitados)\n",
    "actual=1\n",
    "yavisitados[1]=true\n",
    "println(\"empiezo en \",actual)\n",
    "for ciudadesVisitadas in 2:n\n",
    "    #buscar la ciudad mas cercana a actual no visitada \n",
    "    distanciaActual=10000000\n",
    "    siguiente=0\n",
    "    for i in 1:n\n",
    "        if yavisitados[i]==false #no visitado\n",
    "            if distanciaActual>=distancias[actual,i] #mas cercano?\n",
    "                distanciaActual=distancias[actual,i] # lo guardo\n",
    "                siguiente=i\n",
    "            end\n",
    "        end\n",
    "    end\n",
    "    # siguiente tiene el vertice mas cercano al actual\n",
    "    distanciaAcumulada += distanciaActual\n",
    "    actual=siguiente\n",
    "    yavisitados[actual]=true\n",
    "    println(\"paso a \",actual,\" con distancia acumulada \",distanciaAcumulada)\n",
    "end\n",
    "distanciaAcumulada += distancias[actual,1]\n",
    "#distanciaAcumulada = distanciaAcumulada + distancias[actual,1]\n",
    "println(\"distancia total \",distanciaAcumulada)"
   ]
  }
 ],
 "metadata": {
  "kernelspec": {
   "display_name": "Julia 0.6.4",
   "language": "julia",
   "name": "julia-0.6"
  },
  "language_info": {
   "file_extension": ".jl",
   "mimetype": "application/julia",
   "name": "julia",
   "version": "0.6.4"
  }
 },
 "nbformat": 4,
 "nbformat_minor": 2
}
