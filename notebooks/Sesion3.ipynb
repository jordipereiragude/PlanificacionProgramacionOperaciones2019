{
 "cells": [
  {
   "cell_type": "code",
   "execution_count": 1,
   "metadata": {},
   "outputs": [],
   "source": [
    "using DataStructures # -> declaración de datos\n",
    "#some useful reminders --> https://learnxinyminutes.com/docs/julia/"
   ]
  },
  {
   "cell_type": "code",
   "execution_count": 4,
   "metadata": {},
   "outputs": [
    {
     "name": "stdout",
     "output_type": "stream",
     "text": [
      "Bool[true, false, false, false, false, false, false, false, false, false, false, false, false, false, false, false, false, false, false, false, false, false, false, false, false]\t0\n",
      "Bool[true, true, false, false, false, false, false, false, false, false, false, false, false, false, false, false, false, false, false, false, false, false, false, false, false]\t177\n",
      "Bool[true, true, false, false, false, false, false, false, false, false, false, false, false, false, false, false, false, false, false, false, true, false, false, false, false]\t407\n",
      "Bool[true, true, false, false, false, false, false, false, false, false, false, false, true, false, false, false, false, false, false, false, true, false, false, false, false]\t690\n",
      "Bool[true, true, false, false, false, false, false, false, false, false, false, false, true, false, false, false, false, false, false, true, true, false, false, false, false]\t1340\n",
      "Bool[true, true, false, false, false, false, false, false, false, false, false, false, true, false, false, false, true, false, false, true, true, false, false, false, false]\t1891\n",
      "Bool[true, true, false, false, false, false, false, false, false, false, false, false, true, false, false, false, true, false, false, true, true, true, false, false, false]\t2293\n",
      "Bool[true, true, false, false, true, false, false, false, false, false, false, false, true, false, false, false, true, false, false, true, true, true, false, false, false]\t3019\n",
      "Bool[true, true, false, false, true, false, false, false, true, false, false, false, true, false, false, false, true, false, false, true, true, true, false, false, false]\t3431\n",
      "Bool[true, true, false, false, true, false, false, false, true, true, false, false, true, false, false, false, true, false, false, true, true, true, false, false, false]\t3970\n",
      "Bool[true, true, false, false, true, true, false, false, true, true, false, false, true, false, false, false, true, false, false, true, true, true, false, false, false]\t4628\n",
      "Bool[true, true, false, false, true, true, false, false, true, true, false, false, true, false, true, false, true, false, false, true, true, true, false, false, false]\t4851\n",
      "Bool[true, true, false, false, true, true, false, false, true, true, false, false, true, false, true, true, true, false, false, true, true, true, false, false, false]\t5131\n",
      "Bool[true, true, false, false, true, true, false, false, true, true, false, false, true, false, true, true, true, true, false, true, true, true, false, false, false]\t5197\n",
      "Bool[true, true, false, false, true, true, false, false, true, true, false, false, true, false, true, true, true, true, true, true, true, true, false, false, false]\t5475\n",
      "Bool[true, true, false, false, true, true, false, false, true, true, false, false, true, false, true, true, true, true, true, true, true, true, false, true, false]\t6197\n",
      "Bool[true, true, false, false, true, true, false, false, true, true, false, false, true, false, true, true, true, true, true, true, true, true, true, true, false]\t6937\n",
      "Bool[true, true, false, false, true, true, false, false, true, true, false, false, true, false, true, true, true, true, true, true, true, true, true, true, true]\t7554\n",
      "Bool[true, true, false, false, true, true, false, false, true, true, false, true, true, false, true, true, true, true, true, true, true, true, true, true, true]\t8217\n",
      "Bool[true, true, true, false, true, true, false, false, true, true, false, true, true, false, true, true, true, true, true, true, true, true, true, true, true]\t8613\n",
      "Bool[true, true, true, false, true, true, true, false, true, true, false, true, true, false, true, true, true, true, true, true, true, true, true, true, true]\t9448\n",
      "Bool[true, true, true, false, true, true, true, true, true, true, false, true, true, false, true, true, true, true, true, true, true, true, true, true, true]\t10065\n",
      "Bool[true, true, true, false, true, true, true, true, true, true, true, true, true, false, true, true, true, true, true, true, true, true, true, true, true]\t11092\n",
      "Bool[true, true, true, false, true, true, true, true, true, true, true, true, true, true, true, true, true, true, true, true, true, true, true, true, true]\t12254\n",
      "Bool[true, true, true, true, true, true, true, true, true, true, true, true, true, true, true, true, true, true, true, true, true, true, true, true, true]\t13699\n",
      "edge[edge(1, 2), edge(2, 21), edge(21, 13), edge(13, 20), edge(20, 17), edge(17, 22), edge(22, 5), edge(5, 9), edge(5, 10), edge(9, 6), edge(6, 15), edge(6, 16), edge(16, 18), edge(16, 19), edge(16, 24), edge(16, 23), edge(23, 25), edge(25, 12), edge(12, 3), edge(3, 7), edge(7, 8), edge(22, 11), edge(8, 14), edge(12, 4)]\n",
      "edge[edge(1, 2), edge(2, 21), edge(21, 13), edge(13, 20), edge(20, 17), edge(17, 22), edge(22, 5), edge(5, 9), edge(5, 10), edge(9, 6), edge(6, 15), edge(6, 16), edge(16, 18), edge(16, 19), edge(16, 24), edge(16, 23), edge(23, 25), edge(25, 12), edge(12, 3), edge(3, 7), edge(7, 8), edge(22, 11), edge(8, 14), edge(12, 4)]\n",
      "13699\n"
     ]
    }
   ],
   "source": [
    "unGrafo=generarGrafoMST(25,10000)\n",
    "lista,valorFo=prim(unGrafo)\n",
    "println(lista)\n",
    "println(valorFo)"
   ]
  },
  {
   "cell_type": "markdown",
   "metadata": {},
   "source": [
    "# Procesos\n",
    "\n",
    "Desde un punto de vista computacional, una de las características más significativas de los algoritmos de flujos es que nos obligan a estructurar las interacciones entre varios códigos para resolver el problema conjuntamente.\n",
    "\n",
    "Aquí veremos un caso, flujo máximo que necesitará el desarrollo de varios bloques que compondrán el conjunto final"
   ]
  },
  {
   "cell_type": "markdown",
   "metadata": {},
   "source": [
    "## Funcionamiento de caminos mínimos"
   ]
  },
  {
   "cell_type": "code",
   "execution_count": 5,
   "metadata": {},
   "outputs": [
    {
     "data": {
      "text/plain": [
       "generarGrafoCaminos (generic function with 1 method)"
      ]
     },
     "execution_count": 5,
     "metadata": {},
     "output_type": "execute_result"
    }
   ],
   "source": [
    "type grafoCaminos\n",
    "    vertices::Int64\n",
    "    longitud::Array{Int64,2} #arco[i,j] indica la longitud\n",
    "end\n",
    "\n",
    "function generarGrafoCaminos(n::Int64,maxLongitud::Int64)\n",
    "  a=Array{Int64}(n,n)\n",
    "  rand!(a,1:maxLongitud)\n",
    "  return grafoCaminos(n,a)\n",
    "end\n"
   ]
  },
  {
   "cell_type": "code",
   "execution_count": 10,
   "metadata": {},
   "outputs": [
    {
     "data": {
      "text/plain": [
       "dijkstra2 (generic function with 1 method)"
      ]
     },
     "execution_count": 10,
     "metadata": {},
     "output_type": "execute_result"
    }
   ],
   "source": [
    "# Algoritmo de Dijkstra\n",
    "#----------------------------------\n",
    "function dijkstra(grafo::grafoCaminos,origen::Int64)\n",
    "    ∞=typemax(Int64)\n",
    "    tr=zeros(Int64,grafo.vertices)\n",
    "    l=Array{Int64}(grafo.vertices)\n",
    "    fill!(l,∞)\n",
    "    l[origen]=0\n",
    "    Q=PriorityQueue()\n",
    "    enqueue!(Q,origen,0)\n",
    "    while isempty(Q)==false\n",
    "        v=dequeue!(Q)\n",
    "        for w in 1:grafo.vertices\n",
    "            if l[w] > (l[v]+grafo.longitud[v,w])\n",
    "                l[w]=l[v]+grafo.longitud[v,w]\n",
    "                tr[w]=v\n",
    "                if haskey(Q,w)\n",
    "                    Q[w]=l[w]\n",
    "                else\n",
    "                    enqueue!(Q,w,l[w])\n",
    "                end\n",
    "            end\n",
    "            assert(l[w]>(0-10000000)) #warning\n",
    "        end\n",
    "    end\n",
    "    return l,tr\n",
    "end"
   ]
  },
  {
   "cell_type": "code",
   "execution_count": 11,
   "metadata": {},
   "outputs": [
    {
     "data": {
      "text/plain": [
       "bellmanFord (generic function with 1 method)"
      ]
     },
     "execution_count": 11,
     "metadata": {},
     "output_type": "execute_result"
    }
   ],
   "source": [
    "# Algoritmo de Bellman Ford\n",
    "#---------------------------\n",
    "function bellmanFord(g::grafoCaminos,origen::Int64)\n",
    "  # paso 1 (inicializamos)\n",
    "  ∞=typemax(Int64)\n",
    "  tr=zeros(Int64,g.vertices)\n",
    "  l=Array{Int64}(g.vertices)\n",
    "  fill!(l,∞)\n",
    "  l[origen]=0\n",
    "  # paso 2 (recurrencia de programación dinámica)\n",
    "  for i = 1:g.vertices-1 #número de arcos\n",
    "    for v in 1:g.vertices\n",
    "      for w in 1:g.vertices #dos loops para pasar por todos los arcos\n",
    "        if l[w]> (l[v]+g.longitud[v,w])\n",
    "          l[w]=l[v]+g.longitud[v,w]\n",
    "          tr[w]=v\n",
    "        end\n",
    "      end\n",
    "    end\n",
    "  end\n",
    "  # paso 3 (búsqueda de un circuito)\n",
    "  for v in 1:g.vertices\n",
    "    for w in 1:g.vertices #dos loops para pasar por todos los arcos\n",
    "      if l[w] > (l[v]+g.longitud[v,w])\n",
    "        #println(\"longitud: \",l[w],\" vs \",l[v]+g.longitud[v,w],\" y v: \",v,\" w: \",w)\n",
    "        visited=zeros(Bool,g.vertices)\n",
    "        while visited[w]==false\n",
    "          visited[w]=true\n",
    "          w=tr[w]\n",
    "        end\n",
    "        return w,l,tr\n",
    "      end\n",
    "    end\n",
    "  end\n",
    "  return 0,l,tr\n",
    "end"
   ]
  },
  {
   "cell_type": "code",
   "execution_count": 12,
   "metadata": {},
   "outputs": [
    {
     "name": "stdout",
     "output_type": "stream",
     "text": [
      "traza: [0, 4, 8, 24, 15, 1, 6, 21, 1, 24, 24, 22, 1, 7, 21, 14, 6, 8, 6, 6, 6, 15, 24, 8, 9]\n"
     ]
    }
   ],
   "source": [
    "unGrafo=generarGrafoCaminos(25,10000)\n",
    "unGrafo.longitud[13,14]=1; unGrafo.longitud[14,15]=1; unGrafo.longitud[15,16]=1; unGrafo.longitud[17,16]=1000; \n",
    "unGrafo.longitud[17,13]=1; unGrafo.longitud[16,17]=(-10)\n",
    "conCircuito,longitud,traza=bellmanFord(unGrafo,1)\n",
    "println(\"traza: \",traza)\n",
    "# Si he encontrado un circuito, imprimirlo\n",
    "if conCircuito>0\n",
    "  println(\"arco: (\",conCircuito,\",\",traza[conCircuito],\")\")\n",
    "  w=traza[conCircuito]\n",
    "  while w != conCircuito\n",
    "    println(\"arco: (\",w,\",\",traza[w],\")\")\n",
    "    w=traza[w]\n",
    "  end\n",
    "end\n"
   ]
  },
  {
   "cell_type": "code",
   "execution_count": 13,
   "metadata": {},
   "outputs": [
    {
     "data": {
      "text/plain": [
       "([0, 1698, 1147, 1404, 1249, 528, 992, 789, 1356, 909  …  1509, 1497, 1996, 992, 1101, 746, 1178, 1121, 896, 2012], [0, 4, 8, 24, 15, 1, 6, 21, 1, 24  …  14, 6, 8, 6, 6, 6, 15, 24, 8, 9])"
      ]
     },
     "execution_count": 13,
     "metadata": {},
     "output_type": "execute_result"
    }
   ],
   "source": [
    "longitud,traza=dijkstra(unGrafo,1) #si se descomenta salta la \"assertion\" de circuito negativo"
   ]
  },
  {
   "cell_type": "markdown",
   "metadata": {},
   "source": [
    "## Funcionamiento flujo máximo"
   ]
  },
  {
   "cell_type": "code",
   "execution_count": null,
   "metadata": {},
   "outputs": [],
   "source": [
    "type grafoFlujos\n",
    "    vertices::Int64\n",
    "    capacidad::Array{Int64,2} #capacidad[i,j] indica la capacidad del arco\n",
    "    solucion::Array{Int64,2}  #solucion[i,j] indica el flujo del arco\n",
    "end\n",
    "\n",
    "function generarGrafoFlow(n::Int64,maxCapacidad::Int64,density::Float64)\n",
    "  a=Array{Int64}(n,n)\n",
    "  b=Array{Int64}(n,n)\n",
    "  rand!(a,1:maxCapacidad)\n",
    "  for i in 1:n\n",
    "    a[i,i]=0\n",
    "    for j in i+1:n\n",
    "      if rand()>(2*density) #números entre 0 y 1\n",
    "        a[i,j]=0\n",
    "        a[j,i]=0\n",
    "      else # aceptaremos flujo en un único sentido \n",
    "        if rand()<0.5\n",
    "          a[i,j]=0\n",
    "        else\n",
    "          a[j,i]=0\n",
    "        end\n",
    "      end\n",
    "    end\n",
    "  end\n",
    "  return grafoFlujos(n,a,b)\n",
    "end"
   ]
  },
  {
   "cell_type": "code",
   "execution_count": null,
   "metadata": {
    "slideshow": {
     "slide_type": "slide"
    }
   },
   "outputs": [],
   "source": [
    "# Implementación de Ford Fulkerson\n",
    "#---------------------------------\n",
    "function fordFulkerson(g::grafoFlujos,origen::Int64,destino::Int64)\n",
    "  fill!(g.solucion,0) #limpiar la solución\n",
    "  residual=grafoCaminos(g.vertices,zeros(Int64,g.vertices,g.vertices)) #grafo de soporte\n",
    "  obj=0\n",
    "  #println(\"g.capacidad. \",g.capacidad)\n",
    "  while true \n",
    "    #1. creo el grafo residual\n",
    "    fill!(residual.longitud,g.vertices+1)\n",
    "    for i in 1:g.vertices\n",
    "      for j in 1:g.vertices\n",
    "        if g.capacidad[i,j]>0\n",
    "          if g.solucion[i,j]<g.capacidad[i,j]\n",
    "            residual.longitud[i,j]=1\n",
    "          end\n",
    "          if g.solucion[i,j]>0\n",
    "            residual.longitud[j,i]=1\n",
    "          end\n",
    "        end\n",
    "      end\n",
    "    end\n",
    "    #2. resuelvo Dijkstra\n",
    "    #println(residual)\n",
    "    longitud,traza=dijkstra(residual,origen)\n",
    "    println(\"longitud:\",longitud[destino])\n",
    "    if longitud[destino]<g.vertices\n",
    "      extraFlow=typemax(Int32) \n",
    "      # primero tenemos que ver el flujo máximo que podemos pasar\n",
    "      c=destino\n",
    "      while true\n",
    "        #print(\"arco entre: \",traza[c],\" y \",c)\n",
    "        if g.capacidad[traza[c],c]>0\n",
    "          #estoy añadiendo flujo\n",
    "          extraFlow=min(extraFlow,g.capacidad[traza[c],c]-g.solucion[traza[c],c])\n",
    "          #println(\" capacidad \",g.capacidad[traza[c],c]-g.solucion[traza[c],c],\" extra: \",extraFlow)\n",
    "        else\n",
    "          #esto eliminando flujo (redirección)\n",
    "          extraFlow=min(extraFlow,g.solucion[c,traza[c]])\n",
    "          #println(\" backwards \",g.solucion[c,traza[c]],\" extra: \",extraFlow)\n",
    "        end\n",
    "        c=traza[c]\n",
    "        if c==origen\n",
    "          break\n",
    "        end\n",
    "      end\n",
    "      # segundo tenemos que actualizar el flujo de los arcos según flujo máximo\n",
    "      c=destino\n",
    "      while true\n",
    "        #print(\"cambio en arco \",traza[c],\",\",c)\n",
    "        if g.capacidad[traza[c],c]>0\n",
    "          g.solucion[traza[c],c] += extraFlow\n",
    "          #println(\" added \",extraFlow)\n",
    "          assert(g.solucion[traza[c],c]<=g.capacidad[traza[c],c])\n",
    "        else\n",
    "          g.solucion[c,traza[c]] -= extraFlow\n",
    "          #println(\" removed \",extraFlow)\n",
    "          assert(g.solucion[traza[c],c]>=0)\n",
    "        end\n",
    "        c=traza[c]\n",
    "        if c==origen\n",
    "          break\n",
    "        end\n",
    "      end\n",
    "      obj += extraFlow\n",
    "    else\n",
    "      #no podemos mejorar la solución\n",
    "      return obj\n",
    "    end\n",
    "    #println(\"solucion (un paso): \",g.solucion)\n",
    "  end\n",
    "  return totalFlow\n",
    "end"
   ]
  },
  {
   "cell_type": "code",
   "execution_count": null,
   "metadata": {},
   "outputs": [],
   "source": [
    "gEjemplo=grafoFlujos(7,[0 1 3 0 0 0 0 ; 0 0 0 5 4 0 0 ; 0 0 0 3 0 0 0 ; 0 0 0 0 0 0 2 ; 0 0 0 0 0 2 0 ; 0 0 0 0 0 0 3 ; 0 0 0 0 0 0 0],zeros(Int64,7,7))\n",
    "maxFlow=fordFulkerson(gEjemplo,1,7)\n",
    "println(\"maxFlow: \",maxFlow)\n",
    "println(\"solucion: \",gEjemplo.solucion)"
   ]
  },
  {
   "cell_type": "code",
   "execution_count": null,
   "metadata": {},
   "outputs": [],
   "source": [
    "gFlujos=generarGrafoFlow(10,500,0.45)\n",
    "maxFlow=fordFulkerson(gFlujos,1,10)\n",
    "println(\"maxFlow: \",maxFlow)\n",
    "println(\"solucion: \",gFlujos.solucion)"
   ]
  },
  {
   "cell_type": "markdown",
   "metadata": {},
   "source": [
    "## Funcionamiento flujo máximo a coste mínimo"
   ]
  },
  {
   "cell_type": "code",
   "execution_count": null,
   "metadata": {},
   "outputs": [],
   "source": [
    "type grafoMinCost\n",
    "    grafoF::grafoFlujos\n",
    "    coste::Array{Int64,2}  #coste[i,j] indica el coste de pasar una unidad de flujo por el arco\n",
    "end\n",
    "\n",
    "function generarGrafoMinCost(n::Int64,maxCapacidad::Int64,maxCost::Int64,density::Float64)\n",
    "  a=Array{Int64}(n,n)\n",
    "  b=Array{Int64}(n,n)\n",
    "  c=Array{Int64}(n,n)\n",
    "  rand!(a,1:maxCapacidad)\n",
    "  for i in 1:n\n",
    "    a[i,i]=0\n",
    "    for j in i+1:n\n",
    "      if rand()>(2*density) #números entre 0 y 1\n",
    "        a[i,j]=0\n",
    "        a[j,i]=0\n",
    "      else\n",
    "        if rand()<0.5\n",
    "          a[i,j]=0\n",
    "        else\n",
    "          a[j,i]=0\n",
    "        end\n",
    "      end\n",
    "    end\n",
    "  end\n",
    "  for i in 1:n\n",
    "    for j in 1:n\n",
    "      if a[i,j]>0\n",
    "        c[i,j]=rand(1:maxCost)\n",
    "      else\n",
    "        c[i,j]=0\n",
    "      end\n",
    "    end\n",
    "  end\n",
    "  return grafoMinCost(grafoFlujos(n,a,b),c)\n",
    "end"
   ]
  },
  {
   "cell_type": "code",
   "execution_count": null,
   "metadata": {},
   "outputs": [],
   "source": [
    "# Implementación\n",
    "#----------------------------------\n",
    "function minCostMaxFlow(g::grafoMinCost,origen::Int64,destino::Int64)\n",
    "  # primer paso. resolver maxflow\n",
    "  maxFlow=fordFulkerson(g.grafoF,origen,destino)\n",
    "  coste=0 # determinamos su coste\n",
    "  for i in 1:g.grafoF.vertices\n",
    "    for j in 1:g.grafoF.vertices\n",
    "      if g.grafoF.solucion[i,j]>0\n",
    "        coste += g.grafoF.solucion[i,j]*g.coste[i,j]\n",
    "      end\n",
    "    end\n",
    "  end\n",
    "  println(\"maxFlow: \",maxFlow,\"\\t\",\"coste inicial: \",coste)\n",
    "  # la idea ahora es la misma que e flujos máximos, pero usamos Bellman Ford para detectar un ciclo de coste negativo \n",
    "  # en el grafo\n",
    "  residual=grafoCaminos(g.grafoF.vertices+1,zeros(Int64,g.grafoF.vertices+1,g.grafoF.vertices+1))\n",
    "  while true #mientras mejora\n",
    "    #Primero creo un grafo residual\n",
    "    fill!(residual.longitud,typemax(Int32)) \n",
    "    for i in 1:g.grafoF.vertices\n",
    "      for j in 1:g.grafoF.vertices\n",
    "        if g.grafoF.capacidad[i,j]>0  \n",
    "          if g.grafoF.solucion[i,j]<g.grafoF.capacidad[i,j]\n",
    "            residual.longitud[i,j]=g.coste[i,j]\n",
    "          end\n",
    "          if g.grafoF.solucion[i,j]>0\n",
    "            residual.longitud[j,i]=0-g.coste[i,j]\n",
    "          end\n",
    "        end\n",
    "      end\n",
    "    end\n",
    "    println(\"residual: \",residual)\n",
    "    #Luego resuelvo Bellman-Ford\n",
    "    conCircuito,longitud,traza=bellmanFord(residual,origen)\n",
    "    println(\"conCircuito: \",conCircuito,\" \",traza)\n",
    "    #Si hay un circuito\n",
    "    if conCircuito!=0\n",
    "      #detecto circuito\n",
    "      cMin=typemax(Int32)\n",
    "      w=traza[conCircuito]\n",
    "      while w != conCircuito\n",
    "        if residual.longitud[traza[w],w]>0 #arco que añade\n",
    "          c=g.grafoF.capacidad[traza[w],w]-g.grafoF.solucion[traza[w],w]\n",
    "        else # arco que reduce\n",
    "          c=g.grafoF.solucion[w,traza[w]] \n",
    "        end\n",
    "        cMin=min(c,cMin)\n",
    "        println(w,\" \",traza[w],\" -> \",residual.longitud[traza[w],w],\"  ** \",c)\n",
    "        w=traza[w]\n",
    "      end\n",
    "      if residual.longitud[traza[w],w]>0 # arco que añade\n",
    "        c=g.grafoF.capacidad[traza[w],w]-g.grafoF.solucion[traza[w],w]\n",
    "      else # arco que reduce\n",
    "        c=g.grafoF.solucion[w,traza[w]]\n",
    "      end\n",
    "      cMin=min(c,cMin)\n",
    "      println(w,\" \",traza[w],\" -> \",residual.longitud[traza[w],w],\" -- \",c)\n",
    "      # alterar el flujo en el circuito\n",
    "      w=traza[conCircuito]\n",
    "      while w != conCircuito\n",
    "        if residual.longitud[traza[w],w]>0\n",
    "          g.grafoF.solucion[traza[w],w] += cMin\n",
    "          assert(g.grafoF.solucion[traza[w],w]<=g.grafoF.capacidad[traza[w],w])\n",
    "          coste += cMin*g.coste[traza[w],w]\n",
    "        else\n",
    "          g.grafoF.solucion[w,traza[w]] -= cMin\n",
    "          assert(g.grafoF.solucion[w,traza[w]]<=g.grafoF.capacidad[w,traza[w]])\n",
    "          coste -= cMin*g.coste[w,traza[w]]\n",
    "        end\n",
    "        w=traza[w]\n",
    "      end\n",
    "      if residual.longitud[traza[w],w]>0\n",
    "        g.grafoF.solucion[traza[w],w] += cMin\n",
    "        assert(g.grafoF.solucion[traza[w],w]<=g.grafoF.capacidad[traza[w],w])\n",
    "        coste += cMin*g.coste[traza[w],w]\n",
    "      else # arco que reduce\n",
    "        g.grafoF.solucion[w,traza[w]] -= cMin\n",
    "        assert(g.grafoF.solucion[w,traza[w]]>=0)\n",
    "        coste -= cMin*g.coste[w,traza[w]]\n",
    "      end\n",
    "      println(\"coste: \",coste)\n",
    "    else\n",
    "      return coste\n",
    "    end\n",
    "  end\n",
    "end"
   ]
  },
  {
   "cell_type": "code",
   "execution_count": null,
   "metadata": {},
   "outputs": [],
   "source": [
    "gMinCostEjemplo=grafoMinCost(grafoFlujos(4,[0 3 2 0; 0 0 1 0; 0 0 0 2; 0 0 0 0],zeros(Int64,4,4)),[0 10 50 0; 0 0 30 0; 0 0 0 20; 0 0 0 0])\n",
    "coste=minCostMaxFlow(gMinCostEjemplo,1,4)\n",
    "println(\"coste final: \",coste)"
   ]
  },
  {
   "cell_type": "code",
   "execution_count": null,
   "metadata": {},
   "outputs": [],
   "source": [
    "gMinCost=generarGrafoMinCost(10,10,100,0.45)\n",
    "coste=minCostMaxFlow(gMinCost,1,10)"
   ]
  },
  {
   "cell_type": "code",
   "execution_count": null,
   "metadata": {},
   "outputs": [],
   "source": []
  }
 ],
 "metadata": {
  "kernelspec": {
   "display_name": "Julia 0.6.4",
   "language": "julia",
   "name": "julia-0.6"
  },
  "language_info": {
   "file_extension": ".jl",
   "mimetype": "application/julia",
   "name": "julia",
   "version": "0.6.4"
  }
 },
 "nbformat": 4,
 "nbformat_minor": 2
}
