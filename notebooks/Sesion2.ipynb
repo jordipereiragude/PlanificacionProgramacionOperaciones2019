{
 "cells": [
  {
   "cell_type": "code",
   "execution_count": 2,
   "metadata": {},
   "outputs": [],
   "source": [
    "using OffsetArrays # -> Nos permitirá usar matrices que empiecen con índice 0, es lento pero cómodo en este caso\n",
    "using DataStructures # -> definir una cola de prioridad"
   ]
  },
  {
   "cell_type": "markdown",
   "metadata": {},
   "source": [
    "# Teoría de grafos\n",
    "\n",
    "Vamos a ver el algoritmo de Djikstra\n",
    "\n",
    "Implementación\n",
    "\n",
    "P1. <b>Inicialización</b>: l(s):=0, l(v):=$\\infty$ para todo $v\\in V \\setminus \\{s\\}$, R:=$\\emptyset$\n",
    "\n",
    "P2. <b>Buscar Probe</b>: Buscar un vértice $v\\in V \\setminus R$ tal que $l(v):=\\min_{w\\in V\\setminus R} l(w)$\n",
    "\n",
    "P3. <b>Update R</b>: Sea $R:=R\\cup \\{v\\}$\n",
    "\n",
    "P4. actualizar:\n",
    "\n",
    "Para todo $w\\in V \\setminus R$ tal que $(v,w)\\in A$ hacer:\n",
    "\n",
    "$~~~Si $l(w)&gt;l(v)+c(v,w)$ entonces \n",
    "\n",
    "$~~~~~~$sea $l(w):=l(v)+c(v,w)$ y $\\pi(w):=v$ \n",
    "\n",
    "$~~~$Fin Si \n",
    "\n",
    "Fin Para \n",
    "\n",
    "P5. <b>Condición de final</b>: Si $R\\neq V$ ir a paso 2.\n",
    "\n",
    "Aunque este algoritmo puede implementarse sin cambios en Julia, vamos a ver una versión alternativa que usará una cola de prioridad (que acostumbrará a ser más eficiente en la práctica) "
   ]
  },
  {
   "cell_type": "code",
   "execution_count": 3,
   "metadata": {},
   "outputs": [
    {
     "data": {
      "text/plain": [
       "djDense (generic function with 1 method)"
      ]
     },
     "execution_count": 3,
     "metadata": {},
     "output_type": "execute_result"
    }
   ],
   "source": [
    "type grafoDenso\n",
    "    vertices::Int64\n",
    "    arcos::Array{Int64,2} #arco[i,j] indica la distancia entre i y j \n",
    "end\n",
    "\n",
    "function djDense(grafo::grafoDenso,origen::Int64)\n",
    "    ∞=1000000\n",
    "    π=zeros(Int64,grafo.vertices) # el vector pi guarda la el cam\n",
    "    l=zeros(Int64,grafo.vertices) # el vector l guarda la longitud del camino\n",
    "    fill!(l,∞) #inicialmente todas las distancias son 0 excepto el vértice origen con origen\n",
    "    l[origen]=0\n",
    "    Q=PriorityQueue()\n",
    "    enqueue!(Q,origen,0) #la cola de prioridad Q guarda los vértices desde que se puede mejorar algún cambio\n",
    "    while isempty(Q)==false #no va a haber más mejoras\n",
    "        v=dequeue!(Q)\n",
    "        for w in 1:grafo.vertices\n",
    "            if l[w] > (l[v]+grafo.arcos[v,w]) #ver posibles mejoras\n",
    "                l[w]=l[v]+grafo.arcos[v,w]\n",
    "                π[w]=v\n",
    "                if haskey(Q,w)\n",
    "                    Q[w]=l[w]\n",
    "                else\n",
    "                    enqueue!(Q,w,l[w])\n",
    "                end\n",
    "            end\n",
    "        end\n",
    "    end\n",
    "    return l,π\n",
    "end"
   ]
  },
  {
   "cell_type": "code",
   "execution_count": 4,
   "metadata": {},
   "outputs": [
    {
     "data": {
      "text/plain": [
       "([0, 77, 77, 68, 66, 77, 79, 71, 55, 85  …  76, 23, 146, 112, 224, 20, 54, 61, 121, 54], [0, 5, 17, 22, 22, 5, 13, 9, 13, 21  …  13, 1, 2, 21, 25, 1, 1, 9, 22, 21])"
      ]
     },
     "execution_count": 4,
     "metadata": {},
     "output_type": "execute_result"
    }
   ],
   "source": [
    "function generarGrafoDense(n::Int64,maxValue::Int64)\n",
    "    a=Array{Int64}(n,n)\n",
    "    rand!(a,1:maxValue)\n",
    "    for i in 1:n\n",
    "        a[i,i]=0\n",
    "    end\n",
    "    return grafoDenso(n,a) \n",
    "end\n",
    "\n",
    "unGrafo=generarGrafoDense(25,1000)\n",
    "longitud,traza=djDense(unGrafo,1)\n",
    "#println(unGrafo.arcos)\n",
    "#println(longitud)\n",
    "#println(traza)"
   ]
  },
  {
   "cell_type": "markdown",
   "metadata": {},
   "source": [
    "Generalmente es posible aprovecharse de las características del grafo. Veremos aquí el caso de los grafos sparse que complicarán un tanto la implementación a cambio de mejoras significativas en la eficiencia"
   ]
  },
  {
   "cell_type": "code",
   "execution_count": 10,
   "metadata": {},
   "outputs": [
    {
     "name": "stdout",
     "output_type": "stream",
     "text": [
      " 17.900283 seconds (194.06 M allocations: 2.894 GiB, 5.34% gc time)\n"
     ]
    },
    {
     "data": {
      "text/plain": [
       "([0, 4, 4, 4, 4, 4, 4, 4, 4, 4  …  4, 4, 5, 4, 4, 5, 4, 4, 3, 4], [0, 1829, 1606, 2878, 2162, 4220, 2993, 4704, 8259, 8105  …  1453, 4034, 3623, 6472, 3354, 7787, 4006, 1005, 4014, 3423])"
      ]
     },
     "execution_count": 10,
     "metadata": {},
     "output_type": "execute_result"
    }
   ],
   "source": [
    "g=generarGrafoDense(100,1000)\n",
    "@time(djDense(g,1))"
   ]
  },
  {
   "cell_type": "code",
   "execution_count": null,
   "metadata": {},
   "outputs": [],
   "source": [
    "type arco\n",
    "    origen::Int64\n",
    "    destino::Int64\n",
    "    longitud::Int64\n",
    "end\n",
    "\n",
    "type grafoSparse\n",
    "    nVertices::Int64\n",
    "    nArcos::Int64\n",
    "    pOrigen::Array{Int64,1}\n",
    "    arcos::Array{arco,1} #arco[i,j] indica la distancia entre i y j \n",
    "end\n",
    "\n",
    "\n",
    "\n",
    "function djSparse(origen::Int64,g::grafoSparse)\n",
    "    ∞=1000000\n",
    "    π=zeros(Int64,g.nVertices)\n",
    "    l=Array{Int64}(g.nVertices)\n",
    "    fill!(l,∞)\n",
    "    l[origen]=0\n",
    "    Q=PriorityQueue()\n",
    "    enqueue!(Q,origen,0)\n",
    "    while isempty(Q)==false\n",
    "        v=dequeue!(Q)\n",
    "        for c in g.pOrigen[v]:g.pOrigen[v+1]-1 #cambio principal\n",
    "            w=g.arcos[c].destino\n",
    "            longitud=g.arcos[c].longitud\n",
    "            if l[w] > (l[v]+longitud)\n",
    "                l[w]=l[v]+longitud\n",
    "                π[w]=v\n",
    "                if haskey(Q,w)\n",
    "                    Q[w]=l[w]\n",
    "                else\n",
    "                    enqueue!(Q,w,l[w])\n",
    "                end\n",
    "            end\n",
    "        end\n",
    "    end\n",
    "    return l,π\n",
    "end\n",
    "\n"
   ]
  },
  {
   "cell_type": "code",
   "execution_count": null,
   "metadata": {},
   "outputs": [],
   "source": [
    "function generarGrafoSparse(n::Int64,p::Float64,maxValue::Int64)\n",
    "    a=arco[]\n",
    "    pOrigen=Int64[]\n",
    "    nArcos=1\n",
    "    for i in 1:n\n",
    "        push!(pOrigen,nArcos)\n",
    "        for j in 1:n\n",
    "            if i!=j\n",
    "                if rand()<p\n",
    "                    push!(a,arco(i,j,rand(1:maxValue)))\n",
    "                    nArcos += 1\n",
    "                end\n",
    "            end\n",
    "        end\n",
    "    end\n",
    "    push!(pOrigen,nArcos)\n",
    "    return grafoSparse(n,nArcos-1,pOrigen,a) \n",
    "end\n",
    "\n",
    "unGrafo=generarGrafoSparse(10,0.25,1000)\n",
    "println(unGrafo.pOrigen)\n",
    "println(unGrafo.arcos)\n",
    "longitud,camino=djSparse(1,unGrafo)\n",
    "println(longitud)\n",
    "println(camino)"
   ]
  },
  {
   "cell_type": "markdown",
   "metadata": {},
   "source": [
    "# Programación dinámica\n",
    "\n",
    "Vamos a ver un ejemplo muy simple de programación dinámica, el problema de knapsack.\n",
    "\n",
    "El problema de knapsack es posiblemente uno de los modelos clásicos más simples que hay. Ofrece una formulación de programación entera simple que además ha sido muy tratada en la literatura. \n",
    "\n",
    "Trataremos la versión 0-1. En la formulación propuesta, cada etapa (columna de la tabla) corresponde a un item. Los estados representan la disponibilidad (beneficio máximo posible con una combinación de los elementos hasta esa etapa usando la capacidad indicada en la fila de la tabla).\n",
    "\n",
    "No se muestra cómo reconstruir la solución."
   ]
  },
  {
   "cell_type": "code",
   "execution_count": null,
   "metadata": {},
   "outputs": [],
   "source": [
    "beneficio = [ 5, 3, 2, 7, 4 ]\n",
    "peso = [ 2, 8, 4, 2, 5 ]\n",
    "capacidad = 10"
   ]
  },
  {
   "cell_type": "code",
   "execution_count": null,
   "metadata": {},
   "outputs": [],
   "source": [
    "function knapsack(b,p,c)\n",
    "    T=size(p,1) #número de etapas\n",
    "    tabla = OffsetArray(Int64, 0:c, 1:T) #las filas representan la capacidad ocupada, las columnas las decisiones\n",
    "    #etapa 1\n",
    "    for s=1:c\n",
    "        tabla[s,1]=(-1) #valor negativo va a indicar que no es valor posible\n",
    "    end\n",
    "    tabla[0,1]=0\n",
    "    tabla[p[1],1]=b[1]\n",
    "    #etapas 2 a T\n",
    "    #println(tabla[:,1]) #--> permitirá explicar el funcionamiento del algoritmo\n",
    "    for t in 2:T\n",
    "        for s=0:c\n",
    "            tabla[s,t]=tabla[s,t-1]\n",
    "        end\n",
    "        for s=c-p[t]:-1:0 #este for va de c-p[t] hasta 0 reduciendo en 1 cada vez\n",
    "            if tabla[s,t]>=0 #contiene un valor posible \n",
    "                if tabla[s+p[t],t]<(tabla[s,t-1]+b[t]) #mejora la opción actual?\n",
    "                    tabla[s+p[t],t]=tabla[s,t-1]+b[t]\n",
    "                end\n",
    "            end\n",
    "        end\n",
    "        #println(tabla[:,t]) #--> permitirá explicar el funcionamiento del algoritmo\n",
    "    end\n",
    "    beneficio=0\n",
    "    maxLoad=0\n",
    "    previous=0\n",
    "    for s in 0:c\n",
    "        if beneficio < tabla[s,T]\n",
    "            beneficio=tabla[s,T]\n",
    "        end\n",
    "    end\n",
    "    return beneficio\n",
    "end"
   ]
  },
  {
   "cell_type": "code",
   "execution_count": null,
   "metadata": {},
   "outputs": [],
   "source": [
    "beneficio=knapsack(beneficio,peso,capacidad)"
   ]
  },
  {
   "cell_type": "code",
   "execution_count": null,
   "metadata": {},
   "outputs": [],
   "source": []
  }
 ],
 "metadata": {
  "kernelspec": {
   "display_name": "Julia 0.6.4",
   "language": "julia",
   "name": "julia-0.6"
  },
  "language_info": {
   "file_extension": ".jl",
   "mimetype": "application/julia",
   "name": "julia",
   "version": "0.6.4"
  }
 },
 "nbformat": 4,
 "nbformat_minor": 2
}
